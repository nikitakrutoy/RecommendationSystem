{
 "cells": [
  {
   "cell_type": "markdown",
   "metadata": {},
   "source": [
    "# Классификация статей"
   ]
  },
  {
   "cell_type": "markdown",
   "metadata": {},
   "source": [
    "Импортируем нужные библиотеки"
   ]
  },
  {
   "cell_type": "code",
   "execution_count": 1,
   "metadata": {
    "collapsed": true
   },
   "outputs": [],
   "source": [
    "import numpy as np\n",
    "import sklearn.feature_extraction.text, re\n",
    "import sklearn.linear_model\n",
    "import sklearn.metrics\n",
    "import sklearn.grid_search\n",
    "import pymorphy2\n",
    "from sklearn.pipeline import Pipeline"
   ]
  },
  {
   "cell_type": "markdown",
   "metadata": {},
   "source": [
    "Делаем паттерн для создания мешка слов для статей"
   ]
  },
  {
   "cell_type": "code",
   "execution_count": 2,
   "metadata": {
    "collapsed": true
   },
   "outputs": [],
   "source": [
    "WORD_PATTERN = '[а-я]+|[a-z]+'"
   ]
  },
  {
   "cell_type": "markdown",
   "metadata": {},
   "source": [
    "Множества интересный и скучных статей из размеченной выборки."
   ]
  },
  {
   "cell_type": "code",
   "execution_count": 3,
   "metadata": {
    "collapsed": true
   },
   "outputs": [],
   "source": [
    "interesting = set()\n",
    "boring = set()\n",
    "data = list()"
   ]
  },
  {
   "cell_type": "markdown",
   "metadata": {},
   "source": [
    "Морфологический анализатор"
   ]
  },
  {
   "cell_type": "code",
   "execution_count": 4,
   "metadata": {
    "collapsed": true
   },
   "outputs": [],
   "source": [
    "morph = pymorphy2.MorphAnalyzer()"
   ]
  },
  {
   "cell_type": "code",
   "execution_count": 5,
   "metadata": {
    "collapsed": true
   },
   "outputs": [],
   "source": [
    "def get_text(article_path):\n",
    "    with open(article_path, 'r') as html:\n",
    "        page = html.read()\n",
    "        words = re.findall(WORD_PATTERN, page)\n",
    "        parsed_words = list()\n",
    "        for word in words:\n",
    "            parsed_word = morph.parse(word)[0]\n",
    "            if parsed_word.tag.POS not in {'PREP', 'CONJ', 'PRCL', 'INTJ'}:\n",
    "                parsed_words.append(word)\n",
    "        page = ' '.join(parsed_words)\n",
    "        return page\n"
   ]
  },
  {
   "cell_type": "markdown",
   "metadata": {},
   "source": [
    "Загрузка размеченных статей"
   ]
  },
  {
   "cell_type": "code",
   "execution_count": 6,
   "metadata": {
    "collapsed": false
   },
   "outputs": [],
   "source": [
    "with open('interesting.txt', 'r') as lines:\n",
    "    while True:\n",
    "        article_name = lines.readline().rstrip()\n",
    "        if article_name == '':\n",
    "            break\n",
    "        article = get_text(article_name)\n",
    "        interesting.add(article)\n",
    "        data.append(article)\n",
    "\n",
    "with open('boring.txt', 'r') as lines:\n",
    "    while True:\n",
    "        article_name = lines.readline().rstrip()\n",
    "        if article_name == '':\n",
    "            break\n",
    "        article = get_text(article_name)\n",
    "        boring.add(article)\n",
    "        data.append(article)"
   ]
  },
  {
   "cell_type": "markdown",
   "metadata": {},
   "source": [
    "Пермешаем данных для лучшей рабаты классификатора"
   ]
  },
  {
   "cell_type": "code",
   "execution_count": 7,
   "metadata": {
    "collapsed": false
   },
   "outputs": [],
   "source": [
    "import random\n",
    "random.shuffle(data)"
   ]
  },
  {
   "cell_type": "markdown",
   "metadata": {},
   "source": [
    "Выделим из данных вектор фичей tf и idf"
   ]
  },
  {
   "cell_type": "code",
   "execution_count": 8,
   "metadata": {
    "collapsed": false
   },
   "outputs": [],
   "source": [
    "vectorizer = sklearn.feature_extraction.text.TfidfVectorizer(token_pattern=WORD_PATTERN)\n",
    "X = vectorizer.fit_transform(data)\n",
    "Y = np.array([1 if t in interesting else 0 for t in data])"
   ]
  },
  {
   "cell_type": "markdown",
   "metadata": {},
   "source": [
    "Создадим выоборки для обучение, поиска параметров и тестирования"
   ]
  },
  {
   "cell_type": "code",
   "execution_count": 9,
   "metadata": {
    "collapsed": true
   },
   "outputs": [],
   "source": [
    "border = 60\n",
    "X_train, X_test = X[:border], X[border:]\n",
    "Y_train, Y_test = Y[:border], Y[border:]"
   ]
  },
  {
   "cell_type": "markdown",
   "metadata": {},
   "source": [
    "Обучение классификатора и оценка обучение"
   ]
  },
  {
   "cell_type": "code",
   "execution_count": 10,
   "metadata": {
    "collapsed": false
   },
   "outputs": [
    {
     "name": "stdout",
     "output_type": "stream",
     "text": [
      "Score:  0.509539842873\n"
     ]
    }
   ],
   "source": [
    "cls = sklearn.linear_model.SGDClassifier(loss='log')\n",
    "cls.fit(X_train, Y_train)\n",
    "\n",
    "metric = sklearn.metrics.roc_auc_score\n",
    "\n",
    "Y_pred = cls.predict_proba(X_test)[:, 1]\n",
    "\n",
    "score = metric(Y_test, Y_pred)\n",
    "print('Score: ', score)"
   ]
  },
  {
   "cell_type": "markdown",
   "metadata": {},
   "source": [
    "## Кросс-валидация"
   ]
  },
  {
   "cell_type": "markdown",
   "metadata": {},
   "source": [
    "Создадим pipeline для объединения работы vectorize и классификатора "
   ]
  },
  {
   "cell_type": "code",
   "execution_count": 11,
   "metadata": {
    "collapsed": true
   },
   "outputs": [],
   "source": [
    "article_classifier = text_clf = Pipeline([('tfidf', sklearn.feature_extraction.text.TfidfVectorizer()),\n",
    "                                          ('classifier', sklearn.linear_model.SGDClassifier(loss='log'))])"
   ]
  },
  {
   "cell_type": "code",
   "execution_count": 12,
   "metadata": {
    "collapsed": true
   },
   "outputs": [],
   "source": [
    "border = 60\n",
    "X_train, X_test = data[:border], data[border:]\n",
    "Y_train, Y_test = Y[:border], Y[border:]"
   ]
  },
  {
   "cell_type": "markdown",
   "metadata": {},
   "source": [
    "Сетка парметров"
   ]
  },
  {
   "cell_type": "code",
   "execution_count": 13,
   "metadata": {
    "collapsed": false
   },
   "outputs": [],
   "source": [
    "grid = {\n",
    "    'classifier__penalty': ['elasticnet'],\n",
    "    'classifier__alpha': [0.001, 0.0001, 0.00001, 0.000001, 0.0000001],\n",
    "    'classifier__l1_ratio': [0.0, 0.01, 0.05, 0.10, 0.2, 0.3, 0.4, 0.5],\n",
    "    'tfidf__max_df': [0.85, 0.9, 0.95, 1.0],\n",
    "    'tfidf__min_df': [0.01, 0.05, 0.10, 0.15],\n",
    "}"
   ]
  },
  {
   "cell_type": "markdown",
   "metadata": {},
   "source": [
    "Поиск параметров"
   ]
  },
  {
   "cell_type": "code",
   "execution_count": 14,
   "metadata": {
    "collapsed": true
   },
   "outputs": [],
   "source": [
    "def scorer(estimator, X, Y):\n",
    "    return metric(Y, estimator.predict_proba(X)[:, 1])"
   ]
  },
  {
   "cell_type": "code",
   "execution_count": 15,
   "metadata": {
    "collapsed": true
   },
   "outputs": [],
   "source": [
    "searcher = sklearn.grid_search.GridSearchCV(                 \n",
    "    estimator=article_classifier,\n",
    "    param_grid=grid,                                         \n",
    "    scoring=scorer,                                          \n",
    "    cv=5,                                                    \n",
    "    n_jobs=1                                                 \n",
    ")                                                            "
   ]
  },
  {
   "cell_type": "markdown",
   "metadata": {},
   "source": [
    "Оценка качества"
   ]
  },
  {
   "cell_type": "code",
   "execution_count": 16,
   "metadata": {
    "collapsed": false
   },
   "outputs": [
    {
     "name": "stdout",
     "output_type": "stream",
     "text": [
      "0.771349206349\n",
      "{'classifier__l1_ratio': 0.01, 'tfidf__max_df': 0.85, 'classifier__penalty': 'elasticnet', 'tfidf__min_df': 0.05, 'classifier__alpha': 1e-06}\n",
      "0.585858585859\n"
     ]
    }
   ],
   "source": [
    "searcher.fit(X_train, Y_train);      \n",
    "print(searcher.best_score_)            \n",
    "print(searcher.best_params_)           \n",
    "                                       \n",
    "best_cls = searcher.best_estimator_    \n",
    "                                       \n",
    "print(scorer(best_cls, X_test, Y_test))"
   ]
  },
  {
   "cell_type": "markdown",
   "metadata": {},
   "source": [
    "Можно видеть, что кросс-валидация улучшила работу классификатора"
   ]
  }
 ],
 "metadata": {
  "kernelspec": {
   "display_name": "Python 3",
   "language": "python",
   "name": "python3"
  },
  "language_info": {
   "codemirror_mode": {
    "name": "ipython",
    "version": 3
   },
   "file_extension": ".py",
   "mimetype": "text/x-python",
   "name": "python",
   "nbconvert_exporter": "python",
   "pygments_lexer": "ipython3",
   "version": "3.5.1"
  }
 },
 "nbformat": 4,
 "nbformat_minor": 0
}
